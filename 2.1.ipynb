{
 "cells": [
  {
   "cell_type": "markdown",
   "metadata": {},
   "source": [
    "# This is the Notebook\n",
    "## Where content comes to be created"
   ]
  },
  {
   "cell_type": "markdown",
   "metadata": {},
   "source": [
    "In here we:\n",
    "* Program in Python\n",
    "* Have a nice time\n",
    "* *Try* to learn\n",
    "\n",
    "____\n",
    "\n",
    "![fotito](foto.jpeg)"
   ]
  },
  {
   "cell_type": "code",
   "execution_count": null,
   "metadata": {},
   "outputs": [],
   "source": [
    "print(\"Hello world!\")"
   ]
  },
  {
   "cell_type": "code",
   "execution_count": 3,
   "metadata": {},
   "outputs": [
    {
     "name": "stdout",
     "output_type": "stream",
     "text": [
      "Introdueix un número: 12\n",
      "61917364224\n"
     ]
    }
   ],
   "source": [
    "a = int(input(\"Introdueix un número: \"))\n",
    "operacio=a**(a-2)\n",
    "print(operacio)"
   ]
  },
  {
   "cell_type": "code",
   "execution_count": 4,
   "metadata": {},
   "outputs": [
    {
     "name": "stdout",
     "output_type": "stream",
     "text": [
      "M\n",
      "a\n",
      "j\n",
      "o\n",
      "r\n",
      " \n",
      "S\n",
      "t\n",
      "r\n",
      "i\n",
      "n\n",
      "g\n"
     ]
    }
   ],
   "source": [
    "for i in \"Major String\":\n",
    "    print(i)"
   ]
  },
  {
   "cell_type": "code",
   "execution_count": 10,
   "metadata": {},
   "outputs": [
    {
     "name": "stdout",
     "output_type": "stream",
     "text": [
      "21\n",
      "Hola! Sóc Amable i m'agrada Python!\n",
      "None\n"
     ]
    }
   ],
   "source": [
    "class Personatge:\n",
    "    def __init__(self, edat, caracter):\n",
    "        self.edat = edat\n",
    "        self.caracter = caracter\n",
    "    \n",
    "    def parlar(self):\n",
    "        print(f\"Hola! Sóc {self.caracter} i m'agrada Python!\")\n",
    "        \n",
    "##### GETTERS #######\n",
    "        \n",
    "    def getEdat(self):\n",
    "        return self.edat\n",
    "    \n",
    "    def getCaracter(self):\n",
    "        return self.caracter\n",
    "        \n",
    "Joanet = Personatge(21, \"Amable\")\n",
    "\n",
    "print(Joanet.getEdat())\n",
    "print(Joanet.parlar())"
   ]
  },
  {
   "cell_type": "code",
   "execution_count": null,
   "metadata": {},
   "outputs": [],
   "source": []
  }
 ],
 "metadata": {
  "kernelspec": {
   "display_name": "Python 3",
   "language": "python",
   "name": "python3"
  },
  "language_info": {
   "codemirror_mode": {
    "name": "ipython",
    "version": 3
   },
   "file_extension": ".py",
   "mimetype": "text/x-python",
   "name": "python",
   "nbconvert_exporter": "python",
   "pygments_lexer": "ipython3",
   "version": "3.8.5"
  }
 },
 "nbformat": 4,
 "nbformat_minor": 4
}
