{
 "cells": [
  {
   "cell_type": "markdown",
   "metadata": {},
   "source": [
    "# This is the Notebook\n",
    "## Where content comes to be created"
   ]
  },
  {
   "cell_type": "markdown",
   "metadata": {},
   "source": [
    "In here we:\n",
    "* Program in Python\n",
    "* Have a nice time\n",
    "* *Try* to learn\n",
    "\n",
    "____\n",
    "\n",
    "![fotito](foto.jpeg)"
   ]
  },
  {
   "cell_type": "code",
   "execution_count": null,
   "metadata": {},
   "outputs": [],
   "source": [
    "print(\"Hello world!\")"
   ]
  },
  {
   "cell_type": "code",
   "execution_count": null,
   "metadata": {},
   "outputs": [],
   "source": [
    "a = int(input(\"Introdueix un número: \"))\n",
    "operacio=a**(a-2)\n",
    "print(operacio)"
   ]
  },
  {
   "cell_type": "code",
   "execution_count": null,
   "metadata": {},
   "outputs": [],
   "source": [
    "for i in \"Major String\":\n",
    "    print(i)"
   ]
  },
  {
   "cell_type": "code",
   "execution_count": null,
   "metadata": {},
   "outputs": [],
   "source": [
    "class Personatge:\n",
    "    def __init__(self, edat, caracter):\n",
    "        self.edat = edat\n",
    "        self.caracter = caracter\n",
    "    \n",
    "    def parlar(self):\n",
    "        print(f\"Hola! Sóc {self.caracter} i m'agrada Python!\")\n",
    "        \n",
    "##### GETTERS #######\n",
    "        \n",
    "    def getEdat(self):\n",
    "        return self.edat\n",
    "    \n",
    "    def getCaracter(self):\n",
    "        return self.caracter\n",
    "        \n",
    "Joanet = Personatge(21, \"Amable\")\n",
    "\n",
    "print(Joanet.getEdat())\n",
    "print(Joanet.parlar())"
   ]
  },
  {
   "cell_type": "code",
   "execution_count": 4,
   "metadata": {},
   "outputs": [
    {
     "name": "stdout",
     "output_type": "stream",
     "text": [
      "Requirement already satisfied: nbconvert in /Users/pau/opt/anaconda3/lib/python3.8/site-packages (6.0.7)\n",
      "Requirement already satisfied: nbformat>=4.4 in /Users/pau/opt/anaconda3/lib/python3.8/site-packages (from nbconvert) (5.0.8)\n",
      "Requirement already satisfied: mistune<2,>=0.8.1 in /Users/pau/opt/anaconda3/lib/python3.8/site-packages (from nbconvert) (0.8.4)\n",
      "Requirement already satisfied: bleach in /Users/pau/opt/anaconda3/lib/python3.8/site-packages (from nbconvert) (3.2.1)\n",
      "Requirement already satisfied: pygments>=2.4.1 in /Users/pau/opt/anaconda3/lib/python3.8/site-packages (from nbconvert) (2.7.2)\n",
      "Requirement already satisfied: nbclient<0.6.0,>=0.5.0 in /Users/pau/opt/anaconda3/lib/python3.8/site-packages (from nbconvert) (0.5.1)\n",
      "Requirement already satisfied: jinja2>=2.4 in /Users/pau/opt/anaconda3/lib/python3.8/site-packages (from nbconvert) (2.11.2)\n",
      "Requirement already satisfied: traitlets>=4.2 in /Users/pau/opt/anaconda3/lib/python3.8/site-packages (from nbconvert) (5.0.5)\n",
      "Requirement already satisfied: jupyterlab-pygments in /Users/pau/opt/anaconda3/lib/python3.8/site-packages (from nbconvert) (0.1.2)\n",
      "Requirement already satisfied: jupyter-core in /Users/pau/opt/anaconda3/lib/python3.8/site-packages (from nbconvert) (4.6.3)\n",
      "Requirement already satisfied: testpath in /Users/pau/opt/anaconda3/lib/python3.8/site-packages (from nbconvert) (0.4.4)\n",
      "Requirement already satisfied: entrypoints>=0.2.2 in /Users/pau/opt/anaconda3/lib/python3.8/site-packages (from nbconvert) (0.3)\n",
      "Requirement already satisfied: defusedxml in /Users/pau/opt/anaconda3/lib/python3.8/site-packages (from nbconvert) (0.6.0)\n",
      "Requirement already satisfied: pandocfilters>=1.4.1 in /Users/pau/opt/anaconda3/lib/python3.8/site-packages (from nbconvert) (1.4.3)\n",
      "Requirement already satisfied: ipython-genutils in /Users/pau/opt/anaconda3/lib/python3.8/site-packages (from nbformat>=4.4->nbconvert) (0.2.0)\n",
      "Requirement already satisfied: jsonschema!=2.5.0,>=2.4 in /Users/pau/opt/anaconda3/lib/python3.8/site-packages (from nbformat>=4.4->nbconvert) (3.2.0)\n",
      "Requirement already satisfied: webencodings in /Users/pau/opt/anaconda3/lib/python3.8/site-packages (from bleach->nbconvert) (0.5.1)\n",
      "Requirement already satisfied: six>=1.9.0 in /Users/pau/opt/anaconda3/lib/python3.8/site-packages (from bleach->nbconvert) (1.15.0)\n",
      "Requirement already satisfied: packaging in /Users/pau/opt/anaconda3/lib/python3.8/site-packages (from bleach->nbconvert) (20.4)\n",
      "Requirement already satisfied: nest-asyncio in /Users/pau/opt/anaconda3/lib/python3.8/site-packages (from nbclient<0.6.0,>=0.5.0->nbconvert) (1.4.2)\n",
      "Requirement already satisfied: jupyter-client>=6.1.5 in /Users/pau/opt/anaconda3/lib/python3.8/site-packages (from nbclient<0.6.0,>=0.5.0->nbconvert) (6.1.7)\n",
      "Requirement already satisfied: async-generator in /Users/pau/opt/anaconda3/lib/python3.8/site-packages (from nbclient<0.6.0,>=0.5.0->nbconvert) (1.10)\n",
      "Requirement already satisfied: MarkupSafe>=0.23 in /Users/pau/opt/anaconda3/lib/python3.8/site-packages (from jinja2>=2.4->nbconvert) (1.1.1)\n",
      "Requirement already satisfied: attrs>=17.4.0 in /Users/pau/opt/anaconda3/lib/python3.8/site-packages (from jsonschema!=2.5.0,>=2.4->nbformat>=4.4->nbconvert) (20.3.0)\n",
      "Requirement already satisfied: setuptools in /Users/pau/opt/anaconda3/lib/python3.8/site-packages (from jsonschema!=2.5.0,>=2.4->nbformat>=4.4->nbconvert) (50.3.1.post20201107)\n",
      "Requirement already satisfied: pyrsistent>=0.14.0 in /Users/pau/opt/anaconda3/lib/python3.8/site-packages (from jsonschema!=2.5.0,>=2.4->nbformat>=4.4->nbconvert) (0.17.3)\n",
      "Requirement already satisfied: pyparsing>=2.0.2 in /Users/pau/opt/anaconda3/lib/python3.8/site-packages (from packaging->bleach->nbconvert) (2.4.7)\n",
      "Requirement already satisfied: tornado>=4.1 in /Users/pau/opt/anaconda3/lib/python3.8/site-packages (from jupyter-client>=6.1.5->nbclient<0.6.0,>=0.5.0->nbconvert) (6.0.4)\n",
      "Requirement already satisfied: python-dateutil>=2.1 in /Users/pau/opt/anaconda3/lib/python3.8/site-packages (from jupyter-client>=6.1.5->nbclient<0.6.0,>=0.5.0->nbconvert) (2.8.1)\n",
      "Requirement already satisfied: pyzmq>=13 in /Users/pau/opt/anaconda3/lib/python3.8/site-packages (from jupyter-client>=6.1.5->nbclient<0.6.0,>=0.5.0->nbconvert) (19.0.2)\n",
      "Note: you may need to restart the kernel to use updated packages.\n"
     ]
    }
   ],
   "source": [
    "pip install nbconvert"
   ]
  },
  {
   "cell_type": "code",
   "execution_count": 4,
   "metadata": {},
   "outputs": [
    {
     "name": "stdout",
     "output_type": "stream",
     "text": [
      "Requirement already satisfied: nbconvert[webpdf] in /Users/pau/opt/anaconda3/lib/python3.8/site-packages (6.0.7)\n",
      "Requirement already satisfied: jupyter-core in /Users/pau/opt/anaconda3/lib/python3.8/site-packages (from nbconvert[webpdf]) (4.6.3)\n",
      "Requirement already satisfied: mistune<2,>=0.8.1 in /Users/pau/opt/anaconda3/lib/python3.8/site-packages (from nbconvert[webpdf]) (0.8.4)\n",
      "Requirement already satisfied: entrypoints>=0.2.2 in /Users/pau/opt/anaconda3/lib/python3.8/site-packages (from nbconvert[webpdf]) (0.3)\n",
      "Requirement already satisfied: jupyterlab-pygments in /Users/pau/opt/anaconda3/lib/python3.8/site-packages (from nbconvert[webpdf]) (0.1.2)\n",
      "Requirement already satisfied: testpath in /Users/pau/opt/anaconda3/lib/python3.8/site-packages (from nbconvert[webpdf]) (0.4.4)\n",
      "Requirement already satisfied: nbformat>=4.4 in /Users/pau/opt/anaconda3/lib/python3.8/site-packages (from nbconvert[webpdf]) (5.0.8)\n",
      "Requirement already satisfied: pandocfilters>=1.4.1 in /Users/pau/opt/anaconda3/lib/python3.8/site-packages (from nbconvert[webpdf]) (1.4.3)\n",
      "Requirement already satisfied: pygments>=2.4.1 in /Users/pau/opt/anaconda3/lib/python3.8/site-packages (from nbconvert[webpdf]) (2.7.2)\n",
      "Requirement already satisfied: bleach in /Users/pau/opt/anaconda3/lib/python3.8/site-packages (from nbconvert[webpdf]) (3.2.1)\n",
      "Requirement already satisfied: defusedxml in /Users/pau/opt/anaconda3/lib/python3.8/site-packages (from nbconvert[webpdf]) (0.6.0)\n",
      "Requirement already satisfied: nbclient<0.6.0,>=0.5.0 in /Users/pau/opt/anaconda3/lib/python3.8/site-packages (from nbconvert[webpdf]) (0.5.1)\n",
      "Requirement already satisfied: traitlets>=4.2 in /Users/pau/opt/anaconda3/lib/python3.8/site-packages (from nbconvert[webpdf]) (5.0.5)\n",
      "Requirement already satisfied: jinja2>=2.4 in /Users/pau/opt/anaconda3/lib/python3.8/site-packages (from nbconvert[webpdf]) (2.11.2)\n",
      "Requirement already satisfied: pyppeteer==0.2.2; extra == \"webpdf\" in /Users/pau/opt/anaconda3/lib/python3.8/site-packages (from nbconvert[webpdf]) (0.2.2)\n",
      "Requirement already satisfied: jsonschema!=2.5.0,>=2.4 in /Users/pau/opt/anaconda3/lib/python3.8/site-packages (from nbformat>=4.4->nbconvert[webpdf]) (3.2.0)\n",
      "Requirement already satisfied: ipython-genutils in /Users/pau/opt/anaconda3/lib/python3.8/site-packages (from nbformat>=4.4->nbconvert[webpdf]) (0.2.0)\n",
      "Requirement already satisfied: packaging in /Users/pau/opt/anaconda3/lib/python3.8/site-packages (from bleach->nbconvert[webpdf]) (20.4)\n",
      "Requirement already satisfied: webencodings in /Users/pau/opt/anaconda3/lib/python3.8/site-packages (from bleach->nbconvert[webpdf]) (0.5.1)\n",
      "Requirement already satisfied: six>=1.9.0 in /Users/pau/opt/anaconda3/lib/python3.8/site-packages (from bleach->nbconvert[webpdf]) (1.15.0)\n",
      "Requirement already satisfied: nest-asyncio in /Users/pau/opt/anaconda3/lib/python3.8/site-packages (from nbclient<0.6.0,>=0.5.0->nbconvert[webpdf]) (1.4.2)\n",
      "Requirement already satisfied: async-generator in /Users/pau/opt/anaconda3/lib/python3.8/site-packages (from nbclient<0.6.0,>=0.5.0->nbconvert[webpdf]) (1.10)\n",
      "Requirement already satisfied: jupyter-client>=6.1.5 in /Users/pau/opt/anaconda3/lib/python3.8/site-packages (from nbclient<0.6.0,>=0.5.0->nbconvert[webpdf]) (6.1.7)\n",
      "Requirement already satisfied: MarkupSafe>=0.23 in /Users/pau/opt/anaconda3/lib/python3.8/site-packages (from jinja2>=2.4->nbconvert[webpdf]) (1.1.1)\n",
      "Requirement already satisfied: tqdm<5.0.0,>=4.42.1 in /Users/pau/opt/anaconda3/lib/python3.8/site-packages (from pyppeteer==0.2.2; extra == \"webpdf\"->nbconvert[webpdf]) (4.50.2)\n",
      "Requirement already satisfied: pyee<8.0.0,>=7.0.1 in /Users/pau/opt/anaconda3/lib/python3.8/site-packages (from pyppeteer==0.2.2; extra == \"webpdf\"->nbconvert[webpdf]) (7.0.4)\n",
      "Requirement already satisfied: appdirs<2.0.0,>=1.4.3 in /Users/pau/opt/anaconda3/lib/python3.8/site-packages (from pyppeteer==0.2.2; extra == \"webpdf\"->nbconvert[webpdf]) (1.4.4)\n",
      "Requirement already satisfied: websockets<9.0,>=8.1 in /Users/pau/opt/anaconda3/lib/python3.8/site-packages (from pyppeteer==0.2.2; extra == \"webpdf\"->nbconvert[webpdf]) (8.1)\n",
      "Requirement already satisfied: urllib3<2.0.0,>=1.25.8 in /Users/pau/opt/anaconda3/lib/python3.8/site-packages (from pyppeteer==0.2.2; extra == \"webpdf\"->nbconvert[webpdf]) (1.25.11)\n",
      "Requirement already satisfied: pyrsistent>=0.14.0 in /Users/pau/opt/anaconda3/lib/python3.8/site-packages (from jsonschema!=2.5.0,>=2.4->nbformat>=4.4->nbconvert[webpdf]) (0.17.3)\n",
      "Requirement already satisfied: attrs>=17.4.0 in /Users/pau/opt/anaconda3/lib/python3.8/site-packages (from jsonschema!=2.5.0,>=2.4->nbformat>=4.4->nbconvert[webpdf]) (20.3.0)\n",
      "Requirement already satisfied: setuptools in /Users/pau/opt/anaconda3/lib/python3.8/site-packages (from jsonschema!=2.5.0,>=2.4->nbformat>=4.4->nbconvert[webpdf]) (50.3.1.post20201107)\n",
      "Requirement already satisfied: pyparsing>=2.0.2 in /Users/pau/opt/anaconda3/lib/python3.8/site-packages (from packaging->bleach->nbconvert[webpdf]) (2.4.7)\n",
      "Requirement already satisfied: tornado>=4.1 in /Users/pau/opt/anaconda3/lib/python3.8/site-packages (from jupyter-client>=6.1.5->nbclient<0.6.0,>=0.5.0->nbconvert[webpdf]) (6.0.4)\n",
      "Requirement already satisfied: pyzmq>=13 in /Users/pau/opt/anaconda3/lib/python3.8/site-packages (from jupyter-client>=6.1.5->nbclient<0.6.0,>=0.5.0->nbconvert[webpdf]) (19.0.2)\n",
      "Requirement already satisfied: python-dateutil>=2.1 in /Users/pau/opt/anaconda3/lib/python3.8/site-packages (from jupyter-client>=6.1.5->nbclient<0.6.0,>=0.5.0->nbconvert[webpdf]) (2.8.1)\n",
      "Note: you may need to restart the kernel to use updated packages.\n"
     ]
    }
   ],
   "source": [
    "pip install nbconvert[webpdf]"
   ]
  },
  {
   "cell_type": "code",
   "execution_count": 5,
   "metadata": {},
   "outputs": [
    {
     "name": "stdout",
     "output_type": "stream",
     "text": [
      "Requirement already up-to-date: notebook-as-pdf in /Users/pau/opt/anaconda3/lib/python3.8/site-packages (0.5.0)\n",
      "Requirement already satisfied, skipping upgrade: PyPDF2 in /Users/pau/opt/anaconda3/lib/python3.8/site-packages (from notebook-as-pdf) (1.26.0)\n",
      "Requirement already satisfied, skipping upgrade: nbconvert in /Users/pau/opt/anaconda3/lib/python3.8/site-packages (from notebook-as-pdf) (6.0.7)\n",
      "Requirement already satisfied, skipping upgrade: pyppeteer in /Users/pau/opt/anaconda3/lib/python3.8/site-packages (from notebook-as-pdf) (0.2.2)\n",
      "Requirement already satisfied, skipping upgrade: traitlets>=4.2 in /Users/pau/opt/anaconda3/lib/python3.8/site-packages (from nbconvert->notebook-as-pdf) (5.0.5)\n",
      "Requirement already satisfied, skipping upgrade: defusedxml in /Users/pau/opt/anaconda3/lib/python3.8/site-packages (from nbconvert->notebook-as-pdf) (0.6.0)\n",
      "Requirement already satisfied, skipping upgrade: jinja2>=2.4 in /Users/pau/opt/anaconda3/lib/python3.8/site-packages (from nbconvert->notebook-as-pdf) (2.11.2)\n",
      "Requirement already satisfied, skipping upgrade: jupyter-core in /Users/pau/opt/anaconda3/lib/python3.8/site-packages (from nbconvert->notebook-as-pdf) (4.6.3)\n",
      "Requirement already satisfied, skipping upgrade: pandocfilters>=1.4.1 in /Users/pau/opt/anaconda3/lib/python3.8/site-packages (from nbconvert->notebook-as-pdf) (1.4.3)\n",
      "Requirement already satisfied, skipping upgrade: bleach in /Users/pau/opt/anaconda3/lib/python3.8/site-packages (from nbconvert->notebook-as-pdf) (3.2.1)\n",
      "Requirement already satisfied, skipping upgrade: nbclient<0.6.0,>=0.5.0 in /Users/pau/opt/anaconda3/lib/python3.8/site-packages (from nbconvert->notebook-as-pdf) (0.5.1)\n",
      "Requirement already satisfied, skipping upgrade: nbformat>=4.4 in /Users/pau/opt/anaconda3/lib/python3.8/site-packages (from nbconvert->notebook-as-pdf) (5.0.8)\n",
      "Requirement already satisfied, skipping upgrade: testpath in /Users/pau/opt/anaconda3/lib/python3.8/site-packages (from nbconvert->notebook-as-pdf) (0.4.4)\n",
      "Requirement already satisfied, skipping upgrade: pygments>=2.4.1 in /Users/pau/opt/anaconda3/lib/python3.8/site-packages (from nbconvert->notebook-as-pdf) (2.7.2)\n",
      "Requirement already satisfied, skipping upgrade: jupyterlab-pygments in /Users/pau/opt/anaconda3/lib/python3.8/site-packages (from nbconvert->notebook-as-pdf) (0.1.2)\n",
      "Requirement already satisfied, skipping upgrade: mistune<2,>=0.8.1 in /Users/pau/opt/anaconda3/lib/python3.8/site-packages (from nbconvert->notebook-as-pdf) (0.8.4)\n",
      "Requirement already satisfied, skipping upgrade: entrypoints>=0.2.2 in /Users/pau/opt/anaconda3/lib/python3.8/site-packages (from nbconvert->notebook-as-pdf) (0.3)\n",
      "Requirement already satisfied, skipping upgrade: websockets<9.0,>=8.1 in /Users/pau/opt/anaconda3/lib/python3.8/site-packages (from pyppeteer->notebook-as-pdf) (8.1)\n",
      "Requirement already satisfied, skipping upgrade: appdirs<2.0.0,>=1.4.3 in /Users/pau/opt/anaconda3/lib/python3.8/site-packages (from pyppeteer->notebook-as-pdf) (1.4.4)\n",
      "Requirement already satisfied, skipping upgrade: tqdm<5.0.0,>=4.42.1 in /Users/pau/opt/anaconda3/lib/python3.8/site-packages (from pyppeteer->notebook-as-pdf) (4.50.2)\n",
      "Requirement already satisfied, skipping upgrade: urllib3<2.0.0,>=1.25.8 in /Users/pau/opt/anaconda3/lib/python3.8/site-packages (from pyppeteer->notebook-as-pdf) (1.25.11)\n",
      "Requirement already satisfied, skipping upgrade: pyee<8.0.0,>=7.0.1 in /Users/pau/opt/anaconda3/lib/python3.8/site-packages (from pyppeteer->notebook-as-pdf) (7.0.4)\n",
      "Requirement already satisfied, skipping upgrade: ipython-genutils in /Users/pau/opt/anaconda3/lib/python3.8/site-packages (from traitlets>=4.2->nbconvert->notebook-as-pdf) (0.2.0)\n",
      "Requirement already satisfied, skipping upgrade: MarkupSafe>=0.23 in /Users/pau/opt/anaconda3/lib/python3.8/site-packages (from jinja2>=2.4->nbconvert->notebook-as-pdf) (1.1.1)\n",
      "Requirement already satisfied, skipping upgrade: six>=1.9.0 in /Users/pau/opt/anaconda3/lib/python3.8/site-packages (from bleach->nbconvert->notebook-as-pdf) (1.15.0)\n",
      "Requirement already satisfied, skipping upgrade: webencodings in /Users/pau/opt/anaconda3/lib/python3.8/site-packages (from bleach->nbconvert->notebook-as-pdf) (0.5.1)\n",
      "Requirement already satisfied, skipping upgrade: packaging in /Users/pau/opt/anaconda3/lib/python3.8/site-packages (from bleach->nbconvert->notebook-as-pdf) (20.4)\n",
      "Requirement already satisfied, skipping upgrade: jupyter-client>=6.1.5 in /Users/pau/opt/anaconda3/lib/python3.8/site-packages (from nbclient<0.6.0,>=0.5.0->nbconvert->notebook-as-pdf) (6.1.7)\n",
      "Requirement already satisfied, skipping upgrade: nest-asyncio in /Users/pau/opt/anaconda3/lib/python3.8/site-packages (from nbclient<0.6.0,>=0.5.0->nbconvert->notebook-as-pdf) (1.4.2)\n",
      "Requirement already satisfied, skipping upgrade: async-generator in /Users/pau/opt/anaconda3/lib/python3.8/site-packages (from nbclient<0.6.0,>=0.5.0->nbconvert->notebook-as-pdf) (1.10)\n",
      "Requirement already satisfied, skipping upgrade: jsonschema!=2.5.0,>=2.4 in /Users/pau/opt/anaconda3/lib/python3.8/site-packages (from nbformat>=4.4->nbconvert->notebook-as-pdf) (3.2.0)\n",
      "Requirement already satisfied, skipping upgrade: pyparsing>=2.0.2 in /Users/pau/opt/anaconda3/lib/python3.8/site-packages (from packaging->bleach->nbconvert->notebook-as-pdf) (2.4.7)\n",
      "Requirement already satisfied, skipping upgrade: tornado>=4.1 in /Users/pau/opt/anaconda3/lib/python3.8/site-packages (from jupyter-client>=6.1.5->nbclient<0.6.0,>=0.5.0->nbconvert->notebook-as-pdf) (6.0.4)\n",
      "Requirement already satisfied, skipping upgrade: python-dateutil>=2.1 in /Users/pau/opt/anaconda3/lib/python3.8/site-packages (from jupyter-client>=6.1.5->nbclient<0.6.0,>=0.5.0->nbconvert->notebook-as-pdf) (2.8.1)\n",
      "Requirement already satisfied, skipping upgrade: pyzmq>=13 in /Users/pau/opt/anaconda3/lib/python3.8/site-packages (from jupyter-client>=6.1.5->nbclient<0.6.0,>=0.5.0->nbconvert->notebook-as-pdf) (19.0.2)\n",
      "Requirement already satisfied, skipping upgrade: pyrsistent>=0.14.0 in /Users/pau/opt/anaconda3/lib/python3.8/site-packages (from jsonschema!=2.5.0,>=2.4->nbformat>=4.4->nbconvert->notebook-as-pdf) (0.17.3)\n",
      "Requirement already satisfied, skipping upgrade: attrs>=17.4.0 in /Users/pau/opt/anaconda3/lib/python3.8/site-packages (from jsonschema!=2.5.0,>=2.4->nbformat>=4.4->nbconvert->notebook-as-pdf) (20.3.0)\n",
      "Requirement already satisfied, skipping upgrade: setuptools in /Users/pau/opt/anaconda3/lib/python3.8/site-packages (from jsonschema!=2.5.0,>=2.4->nbformat>=4.4->nbconvert->notebook-as-pdf) (50.3.1.post20201107)\n",
      "[W:pyppeteer.chromium_downloader] start chromium download.\n",
      "Download may take a few minutes.\n",
      "100%|██████████████████████████| 86759503/86759503 [00:19<00:00, 4475151.71it/s]\n",
      "[W:pyppeteer.chromium_downloader] \n",
      "chromium download done.\n",
      "[W:pyppeteer.chromium_downloader] chromium extracted to: /Users/pau/Library/Application Support/pyppeteer/local-chromium/588429\n"
     ]
    }
   ],
   "source": [
    "!pip install -U notebook-as-pdf\n",
    "!pyppeteer-install\n",
    "upyter-nbconvert --to PDFviaHTML example.ipynb"
   ]
  },
  {
   "cell_type": "code",
   "execution_count": 9,
   "metadata": {},
   "outputs": [
    {
     "name": "stdout",
     "output_type": "stream",
     "text": [
      "Collecting latex\n",
      "  Downloading latex-0.7.0.tar.gz (6.5 kB)\n",
      "Collecting tempdir\n",
      "  Downloading tempdir-0.7.1.tar.gz (5.9 kB)\n",
      "Collecting data\n",
      "  Downloading data-0.4.tar.gz (7.0 kB)\n",
      "Requirement already satisfied: future in /Users/pau/opt/anaconda3/lib/python3.8/site-packages (from latex) (0.18.2)\n",
      "Collecting shutilwhich\n",
      "  Downloading shutilwhich-1.1.0.tar.gz (2.3 kB)\n",
      "Requirement already satisfied: six in /Users/pau/opt/anaconda3/lib/python3.8/site-packages (from data->latex) (1.15.0)\n",
      "Requirement already satisfied: decorator in /Users/pau/opt/anaconda3/lib/python3.8/site-packages (from data->latex) (4.4.2)\n",
      "Collecting funcsigs\n",
      "  Downloading funcsigs-1.0.2-py2.py3-none-any.whl (17 kB)\n",
      "Building wheels for collected packages: latex, tempdir, data, shutilwhich\n",
      "  Building wheel for latex (setup.py) ... \u001b[?25ldone\n",
      "\u001b[?25h  Created wheel for latex: filename=latex-0.7.0-py3-none-any.whl size=7606 sha256=9afcee532f6c66d4008c442482fb63c02a37e830f1ee8d3630058610cd190bb8\n",
      "  Stored in directory: /Users/pau/Library/Caches/pip/wheels/16/c1/33/30e79ef1232ec43bb51b17ad60c5bfa6849fa0c9bc939ca089\n",
      "  Building wheel for tempdir (setup.py) ... \u001b[?25ldone\n",
      "\u001b[?25h  Created wheel for tempdir: filename=tempdir-0.7.1-py3-none-any.whl size=2213 sha256=5f81764181b7ba2c83e8d00305c4d314efdc9b217f0ea1d380ae9ae66ee480e0\n",
      "  Stored in directory: /Users/pau/Library/Caches/pip/wheels/ea/e1/da/0c7710dab603b931bcd9afec71573767e22ca5ac17be1a5fa9\n",
      "  Building wheel for data (setup.py) ... \u001b[?25ldone\n",
      "\u001b[?25h  Created wheel for data: filename=data-0.4-py3-none-any.whl size=7247 sha256=95fc098fea1a42f529186355eed6ae0816a083734b3415b222a2e9f005dd2745\n",
      "  Stored in directory: /Users/pau/Library/Caches/pip/wheels/5c/78/30/ac68ac8de8481b3b4334617a48ef1758323f30709b2f923362\n",
      "  Building wheel for shutilwhich (setup.py) ... \u001b[?25ldone\n",
      "\u001b[?25h  Created wheel for shutilwhich: filename=shutilwhich-1.1.0-py3-none-any.whl size=2782 sha256=1d6c6804b5c1fc429dc82e9ccbb49c9c8a86c0c95ce81f58f78ea6b460321147\n",
      "  Stored in directory: /Users/pau/Library/Caches/pip/wheels/27/f1/8b/8e9215b5809387fcf93d0eb9c1a95a7cb30b369b3c1d986f1c\n",
      "Successfully built latex tempdir data shutilwhich\n",
      "Installing collected packages: tempdir, funcsigs, data, shutilwhich, latex\n",
      "Successfully installed data-0.4 funcsigs-1.0.2 latex-0.7.0 shutilwhich-1.1.0 tempdir-0.7.1\n",
      "Note: you may need to restart the kernel to use updated packages.\n"
     ]
    }
   ],
   "source": [
    "pip install latex"
   ]
  },
  {
   "cell_type": "code",
   "execution_count": 4,
   "metadata": {},
   "outputs": [
    {
     "name": "stdout",
     "output_type": "stream",
     "text": [
      "Collecting jupyter_contrib_nbextensions\n",
      "  Downloading jupyter_contrib_nbextensions-0.5.1-py2.py3-none-any.whl (20.9 MB)\n",
      "\u001b[K     |████████████████████████████████| 20.9 MB 4.8 MB/s eta 0:00:01\n",
      "\u001b[?25hRequirement already satisfied: nbconvert>=4.2 in /Users/pau/opt/anaconda3/lib/python3.8/site-packages (from jupyter_contrib_nbextensions) (6.0.7)\n",
      "Requirement already satisfied: traitlets>=4.1 in /Users/pau/opt/anaconda3/lib/python3.8/site-packages (from jupyter_contrib_nbextensions) (5.0.5)\n",
      "Requirement already satisfied: ipython-genutils in /Users/pau/opt/anaconda3/lib/python3.8/site-packages (from jupyter_contrib_nbextensions) (0.2.0)\n",
      "Requirement already satisfied: pyyaml in /Users/pau/opt/anaconda3/lib/python3.8/site-packages (from jupyter_contrib_nbextensions) (5.3.1)\n",
      "Collecting jupyter-contrib-core>=0.3.3\n",
      "  Downloading jupyter_contrib_core-0.3.3-py2.py3-none-any.whl (18 kB)\n",
      "Requirement already satisfied: lxml in /Users/pau/opt/anaconda3/lib/python3.8/site-packages (from jupyter_contrib_nbextensions) (4.6.1)\n",
      "Collecting jupyter-latex-envs>=1.3.8\n",
      "  Downloading jupyter_latex_envs-1.4.6.tar.gz (861 kB)\n",
      "\u001b[K     |████████████████████████████████| 861 kB 4.3 MB/s eta 0:00:01\n",
      "\u001b[?25hRequirement already satisfied: notebook>=4.0 in /Users/pau/opt/anaconda3/lib/python3.8/site-packages (from jupyter_contrib_nbextensions) (6.1.4)\n",
      "Collecting jupyter-highlight-selected-word>=0.1.1\n",
      "  Downloading jupyter_highlight_selected_word-0.2.0-py2.py3-none-any.whl (11 kB)\n",
      "Requirement already satisfied: jupyter-core in /Users/pau/opt/anaconda3/lib/python3.8/site-packages (from jupyter_contrib_nbextensions) (4.6.3)\n",
      "Collecting jupyter-nbextensions-configurator>=0.4.0\n",
      "  Downloading jupyter_nbextensions_configurator-0.4.1.tar.gz (479 kB)\n",
      "\u001b[K     |████████████████████████████████| 479 kB 4.1 MB/s eta 0:00:01\n",
      "\u001b[?25hRequirement already satisfied: tornado in /Users/pau/opt/anaconda3/lib/python3.8/site-packages (from jupyter_contrib_nbextensions) (6.0.4)\n",
      "Requirement already satisfied: pygments>=2.4.1 in /Users/pau/opt/anaconda3/lib/python3.8/site-packages (from nbconvert>=4.2->jupyter_contrib_nbextensions) (2.7.2)\n",
      "Requirement already satisfied: defusedxml in /Users/pau/opt/anaconda3/lib/python3.8/site-packages (from nbconvert>=4.2->jupyter_contrib_nbextensions) (0.6.0)\n",
      "Requirement already satisfied: pandocfilters>=1.4.1 in /Users/pau/opt/anaconda3/lib/python3.8/site-packages (from nbconvert>=4.2->jupyter_contrib_nbextensions) (1.4.3)\n",
      "Requirement already satisfied: nbformat>=4.4 in /Users/pau/opt/anaconda3/lib/python3.8/site-packages (from nbconvert>=4.2->jupyter_contrib_nbextensions) (5.0.8)\n",
      "Requirement already satisfied: mistune<2,>=0.8.1 in /Users/pau/opt/anaconda3/lib/python3.8/site-packages (from nbconvert>=4.2->jupyter_contrib_nbextensions) (0.8.4)\n",
      "Requirement already satisfied: jinja2>=2.4 in /Users/pau/opt/anaconda3/lib/python3.8/site-packages (from nbconvert>=4.2->jupyter_contrib_nbextensions) (2.11.2)\n",
      "Requirement already satisfied: nbclient<0.6.0,>=0.5.0 in /Users/pau/opt/anaconda3/lib/python3.8/site-packages (from nbconvert>=4.2->jupyter_contrib_nbextensions) (0.5.1)\n",
      "Requirement already satisfied: entrypoints>=0.2.2 in /Users/pau/opt/anaconda3/lib/python3.8/site-packages (from nbconvert>=4.2->jupyter_contrib_nbextensions) (0.3)\n",
      "Requirement already satisfied: bleach in /Users/pau/opt/anaconda3/lib/python3.8/site-packages (from nbconvert>=4.2->jupyter_contrib_nbextensions) (3.2.1)\n",
      "Requirement already satisfied: testpath in /Users/pau/opt/anaconda3/lib/python3.8/site-packages (from nbconvert>=4.2->jupyter_contrib_nbextensions) (0.4.4)\n",
      "Requirement already satisfied: jupyterlab-pygments in /Users/pau/opt/anaconda3/lib/python3.8/site-packages (from nbconvert>=4.2->jupyter_contrib_nbextensions) (0.1.2)\n",
      "Requirement already satisfied: setuptools in /Users/pau/opt/anaconda3/lib/python3.8/site-packages (from jupyter-contrib-core>=0.3.3->jupyter_contrib_nbextensions) (50.3.1.post20201107)\n",
      "Requirement already satisfied: ipython in /Users/pau/opt/anaconda3/lib/python3.8/site-packages (from jupyter-latex-envs>=1.3.8->jupyter_contrib_nbextensions) (7.19.0)\n",
      "Requirement already satisfied: pyzmq>=17 in /Users/pau/opt/anaconda3/lib/python3.8/site-packages (from notebook>=4.0->jupyter_contrib_nbextensions) (19.0.2)\n",
      "Requirement already satisfied: prometheus-client in /Users/pau/opt/anaconda3/lib/python3.8/site-packages (from notebook>=4.0->jupyter_contrib_nbextensions) (0.8.0)\n",
      "Requirement already satisfied: argon2-cffi in /Users/pau/opt/anaconda3/lib/python3.8/site-packages (from notebook>=4.0->jupyter_contrib_nbextensions) (20.1.0)\n",
      "Requirement already satisfied: jupyter-client>=5.3.4 in /Users/pau/opt/anaconda3/lib/python3.8/site-packages (from notebook>=4.0->jupyter_contrib_nbextensions) (6.1.7)\n",
      "Requirement already satisfied: ipykernel in /Users/pau/opt/anaconda3/lib/python3.8/site-packages (from notebook>=4.0->jupyter_contrib_nbextensions) (5.3.4)\n",
      "Requirement already satisfied: Send2Trash in /Users/pau/opt/anaconda3/lib/python3.8/site-packages (from notebook>=4.0->jupyter_contrib_nbextensions) (1.5.0)\n",
      "Requirement already satisfied: terminado>=0.8.3 in /Users/pau/opt/anaconda3/lib/python3.8/site-packages (from notebook>=4.0->jupyter_contrib_nbextensions) (0.9.1)\n",
      "Requirement already satisfied: jsonschema!=2.5.0,>=2.4 in /Users/pau/opt/anaconda3/lib/python3.8/site-packages (from nbformat>=4.4->nbconvert>=4.2->jupyter_contrib_nbextensions) (3.2.0)\n",
      "Requirement already satisfied: MarkupSafe>=0.23 in /Users/pau/opt/anaconda3/lib/python3.8/site-packages (from jinja2>=2.4->nbconvert>=4.2->jupyter_contrib_nbextensions) (1.1.1)\n",
      "Requirement already satisfied: async-generator in /Users/pau/opt/anaconda3/lib/python3.8/site-packages (from nbclient<0.6.0,>=0.5.0->nbconvert>=4.2->jupyter_contrib_nbextensions) (1.10)\n",
      "Requirement already satisfied: nest-asyncio in /Users/pau/opt/anaconda3/lib/python3.8/site-packages (from nbclient<0.6.0,>=0.5.0->nbconvert>=4.2->jupyter_contrib_nbextensions) (1.4.2)\n",
      "Requirement already satisfied: webencodings in /Users/pau/opt/anaconda3/lib/python3.8/site-packages (from bleach->nbconvert>=4.2->jupyter_contrib_nbextensions) (0.5.1)\n",
      "Requirement already satisfied: six>=1.9.0 in /Users/pau/opt/anaconda3/lib/python3.8/site-packages (from bleach->nbconvert>=4.2->jupyter_contrib_nbextensions) (1.15.0)\n",
      "Requirement already satisfied: packaging in /Users/pau/opt/anaconda3/lib/python3.8/site-packages (from bleach->nbconvert>=4.2->jupyter_contrib_nbextensions) (20.4)\n",
      "Requirement already satisfied: prompt-toolkit!=3.0.0,!=3.0.1,<3.1.0,>=2.0.0 in /Users/pau/opt/anaconda3/lib/python3.8/site-packages (from ipython->jupyter-latex-envs>=1.3.8->jupyter_contrib_nbextensions) (3.0.8)\n",
      "Requirement already satisfied: pickleshare in /Users/pau/opt/anaconda3/lib/python3.8/site-packages (from ipython->jupyter-latex-envs>=1.3.8->jupyter_contrib_nbextensions) (0.7.5)\n",
      "Requirement already satisfied: appnope; sys_platform == \"darwin\" in /Users/pau/opt/anaconda3/lib/python3.8/site-packages (from ipython->jupyter-latex-envs>=1.3.8->jupyter_contrib_nbextensions) (0.1.0)\n",
      "Requirement already satisfied: jedi>=0.10 in /Users/pau/opt/anaconda3/lib/python3.8/site-packages (from ipython->jupyter-latex-envs>=1.3.8->jupyter_contrib_nbextensions) (0.17.1)\n",
      "Requirement already satisfied: pexpect>4.3; sys_platform != \"win32\" in /Users/pau/opt/anaconda3/lib/python3.8/site-packages (from ipython->jupyter-latex-envs>=1.3.8->jupyter_contrib_nbextensions) (4.8.0)\n",
      "Requirement already satisfied: decorator in /Users/pau/opt/anaconda3/lib/python3.8/site-packages (from ipython->jupyter-latex-envs>=1.3.8->jupyter_contrib_nbextensions) (4.4.2)\n",
      "Requirement already satisfied: backcall in /Users/pau/opt/anaconda3/lib/python3.8/site-packages (from ipython->jupyter-latex-envs>=1.3.8->jupyter_contrib_nbextensions) (0.2.0)\n",
      "Requirement already satisfied: cffi>=1.0.0 in /Users/pau/opt/anaconda3/lib/python3.8/site-packages (from argon2-cffi->notebook>=4.0->jupyter_contrib_nbextensions) (1.14.3)\n",
      "Requirement already satisfied: python-dateutil>=2.1 in /Users/pau/opt/anaconda3/lib/python3.8/site-packages (from jupyter-client>=5.3.4->notebook>=4.0->jupyter_contrib_nbextensions) (2.8.1)\n",
      "Requirement already satisfied: ptyprocess in /Users/pau/opt/anaconda3/lib/python3.8/site-packages (from terminado>=0.8.3->notebook>=4.0->jupyter_contrib_nbextensions) (0.6.0)\n",
      "Requirement already satisfied: pyrsistent>=0.14.0 in /Users/pau/opt/anaconda3/lib/python3.8/site-packages (from jsonschema!=2.5.0,>=2.4->nbformat>=4.4->nbconvert>=4.2->jupyter_contrib_nbextensions) (0.17.3)\n",
      "Requirement already satisfied: attrs>=17.4.0 in /Users/pau/opt/anaconda3/lib/python3.8/site-packages (from jsonschema!=2.5.0,>=2.4->nbformat>=4.4->nbconvert>=4.2->jupyter_contrib_nbextensions) (20.3.0)\n"
     ]
    },
    {
     "name": "stdout",
     "output_type": "stream",
     "text": [
      "Requirement already satisfied: pyparsing>=2.0.2 in /Users/pau/opt/anaconda3/lib/python3.8/site-packages (from packaging->bleach->nbconvert>=4.2->jupyter_contrib_nbextensions) (2.4.7)\n",
      "Requirement already satisfied: wcwidth in /Users/pau/opt/anaconda3/lib/python3.8/site-packages (from prompt-toolkit!=3.0.0,!=3.0.1,<3.1.0,>=2.0.0->ipython->jupyter-latex-envs>=1.3.8->jupyter_contrib_nbextensions) (0.2.5)\n",
      "Requirement already satisfied: parso<0.8.0,>=0.7.0 in /Users/pau/opt/anaconda3/lib/python3.8/site-packages (from jedi>=0.10->ipython->jupyter-latex-envs>=1.3.8->jupyter_contrib_nbextensions) (0.7.0)\n",
      "Requirement already satisfied: pycparser in /Users/pau/opt/anaconda3/lib/python3.8/site-packages (from cffi>=1.0.0->argon2-cffi->notebook>=4.0->jupyter_contrib_nbextensions) (2.20)\n",
      "Building wheels for collected packages: jupyter-latex-envs, jupyter-nbextensions-configurator\n",
      "  Building wheel for jupyter-latex-envs (setup.py) ... \u001b[?25ldone\n",
      "\u001b[?25h  Created wheel for jupyter-latex-envs: filename=jupyter_latex_envs-1.4.6-py2.py3-none-any.whl size=963395 sha256=d216eb075f264df7aa7bc83d9894753234d29653e763b0d8dbbdde0d91bd9aee\n",
      "  Stored in directory: /Users/pau/Library/Caches/pip/wheels/4d/ba/f4/b8c0941055519ebc0f27e85bfe2bb223f1a59a3b8bfc5c7515\n",
      "  Building wheel for jupyter-nbextensions-configurator (setup.py) ... \u001b[?25ldone\n",
      "\u001b[?25h  Created wheel for jupyter-nbextensions-configurator: filename=jupyter_nbextensions_configurator-0.4.1-py2.py3-none-any.whl size=465825 sha256=b4cac683bc8fdfe6f186eb3577c96878a009569d236018b9fb8194b08c14d8c3\n",
      "  Stored in directory: /Users/pau/Library/Caches/pip/wheels/e3/3a/b3/a709b437602c3807f079f0c35ccba3e1adf9af6f2e6b0ebfea\n",
      "Successfully built jupyter-latex-envs jupyter-nbextensions-configurator\n",
      "Installing collected packages: jupyter-contrib-core, jupyter-latex-envs, jupyter-highlight-selected-word, jupyter-nbextensions-configurator, jupyter-contrib-nbextensions\n",
      "Successfully installed jupyter-contrib-core-0.3.3 jupyter-contrib-nbextensions-0.5.1 jupyter-highlight-selected-word-0.2.0 jupyter-latex-envs-1.4.6 jupyter-nbextensions-configurator-0.4.1\n",
      "Note: you may need to restart the kernel to use updated packages.\n"
     ]
    }
   ],
   "source": [
    "pip install jupyter_contrib_nbextensions"
   ]
  }
 ],
 "metadata": {
  "kernelspec": {
   "display_name": "Python 3",
   "language": "python",
   "name": "python3"
  },
  "language_info": {
   "codemirror_mode": {
    "name": "ipython",
    "version": 3
   },
   "file_extension": ".py",
   "mimetype": "text/x-python",
   "name": "python",
   "nbconvert_exporter": "python",
   "pygments_lexer": "ipython3",
   "version": "3.8.5"
  }
 },
 "nbformat": 4,
 "nbformat_minor": 4
}
