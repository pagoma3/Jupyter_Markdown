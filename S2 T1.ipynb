{
 "cells": [
  {
   "cell_type": "markdown",
   "metadata": {},
   "source": [
    "# Sprint 2, Task 1: Jupyter Notebook and Markdown\n",
    "\n",
    "## Level 1\n",
    "\n",
    "### Exercice 1\n",
    "\n",
    "Install Anaconda and Jupyter Notebook."
   ]
  },
  {
   "cell_type": "markdown",
   "metadata": {},
   "source": [
    "### Exercices 2 and 3\n",
    "\n",
    "Using Jupyter Notebook execute some simple calculations, while getting familiar with Markdown language.\n",
    "\n",
    "Try creating titles, lists,  changing font style or adding images to the Notebook."
   ]
  },
  {
   "cell_type": "markdown",
   "metadata": {},
   "source": [
    "# This is the Notebook\n",
    "## Where content comes to be created"
   ]
  },
  {
   "cell_type": "markdown",
   "metadata": {},
   "source": [
    "In here we:\n",
    "* Program in Python\n",
    "* Have a nice time\n",
    "* *Try* to learn\n",
    "\n",
    "____\n",
    "\n",
    "![fotito](foto.jpeg)"
   ]
  },
  {
   "cell_type": "code",
   "execution_count": 1,
   "metadata": {
    "ExecuteTime": {
     "end_time": "2021-09-28T11:37:45.208767Z",
     "start_time": "2021-09-28T11:37:45.184115Z"
    }
   },
   "outputs": [
    {
     "name": "stdout",
     "output_type": "stream",
     "text": [
      "Hello world!\n"
     ]
    }
   ],
   "source": [
    "# Simple printing\n",
    "\n",
    "print(\"Hello world!\")"
   ]
  },
  {
   "cell_type": "code",
   "execution_count": 2,
   "metadata": {
    "ExecuteTime": {
     "end_time": "2021-09-28T11:38:03.547826Z",
     "start_time": "2021-09-28T11:37:45.226973Z"
    }
   },
   "outputs": [
    {
     "name": "stdout",
     "output_type": "stream",
     "text": [
      "Insert a number: 7\n",
      "16807\n"
     ]
    }
   ],
   "source": [
    "# Playing with input function\n",
    "\n",
    "a = int(input(\"Insert a number: \"))\n",
    "\n",
    "operation = a ** (a - 2)\n",
    "\n",
    "print(operation)"
   ]
  },
  {
   "cell_type": "code",
   "execution_count": 3,
   "metadata": {
    "ExecuteTime": {
     "end_time": "2021-09-28T11:38:03.566380Z",
     "start_time": "2021-09-28T11:38:03.559245Z"
    }
   },
   "outputs": [
    {
     "name": "stdout",
     "output_type": "stream",
     "text": [
      "M\n",
      "a\n",
      "j\n",
      "o\n",
      "r\n",
      " \n",
      "S\n",
      "t\n",
      "r\n",
      "i\n",
      "n\n",
      "g\n"
     ]
    }
   ],
   "source": [
    "# For loops and indexing strings\n",
    "\n",
    "for i in \"Major String\":\n",
    "    print(i)"
   ]
  },
  {
   "cell_type": "code",
   "execution_count": 4,
   "metadata": {
    "ExecuteTime": {
     "end_time": "2021-09-28T11:38:03.580048Z",
     "start_time": "2021-09-28T11:38:03.571505Z"
    }
   },
   "outputs": [
    {
     "name": "stdout",
     "output_type": "stream",
     "text": [
      "21\n",
      "Hi! I'm gentle and I like Python!\n",
      "None\n"
     ]
    }
   ],
   "source": [
    "# Creating a class with its getters\n",
    "\n",
    "class Character:\n",
    "    def __init__(self, age, personality):\n",
    "        self.age = age\n",
    "        self.personality = personality\n",
    "    \n",
    "    def speak(self):\n",
    "        print(f\"Hi! I'm {self.personality} and I like Python!\")\n",
    "        \n",
    "##### GETTERS #######\n",
    "        \n",
    "    def getAge(self):\n",
    "        return self.age\n",
    "    \n",
    "    def getPersonality(self):\n",
    "        return self.personality\n",
    "        \n",
    "Joanet = Character(21, \"gentle\")\n",
    "\n",
    "print(Joanet.getAge())\n",
    "print(Joanet.speak())"
   ]
  },
  {
   "cell_type": "markdown",
   "metadata": {},
   "source": [
    "## Level 2\n",
    "\n",
    "### Exercice 1\n",
    "\n",
    "Save the Notebook as PDF and HTML"
   ]
  },
  {
   "cell_type": "code",
   "execution_count": 5,
   "metadata": {
    "ExecuteTime": {
     "end_time": "2021-09-28T11:38:03.591086Z",
     "start_time": "2021-09-28T11:38:03.583690Z"
    }
   },
   "outputs": [],
   "source": [
    "# File -> download as -> HTML"
   ]
  },
  {
   "cell_type": "code",
   "execution_count": 6,
   "metadata": {
    "ExecuteTime": {
     "end_time": "2021-09-28T11:38:20.634481Z",
     "start_time": "2021-09-28T11:38:03.596721Z"
    },
    "scrolled": true
   },
   "outputs": [
    {
     "name": "stdout",
     "output_type": "stream",
     "text": [
      "Requirement already satisfied: notebook-as-pdf in /Users/pau/opt/anaconda3/lib/python3.8/site-packages (0.5.0)\n",
      "Requirement already satisfied: pyppeteer in /Users/pau/opt/anaconda3/lib/python3.8/site-packages (from notebook-as-pdf) (0.2.6)\n",
      "Requirement already satisfied: PyPDF2 in /Users/pau/opt/anaconda3/lib/python3.8/site-packages (from notebook-as-pdf) (1.26.0)\n",
      "Requirement already satisfied: nbconvert in /Users/pau/opt/anaconda3/lib/python3.8/site-packages (from notebook-as-pdf) (6.0.7)\n",
      "Requirement already satisfied: entrypoints>=0.2.2 in /Users/pau/opt/anaconda3/lib/python3.8/site-packages (from nbconvert->notebook-as-pdf) (0.3)\n",
      "Requirement already satisfied: nbformat>=4.4 in /Users/pau/opt/anaconda3/lib/python3.8/site-packages (from nbconvert->notebook-as-pdf) (5.1.3)\n",
      "Requirement already satisfied: defusedxml in /Users/pau/opt/anaconda3/lib/python3.8/site-packages (from nbconvert->notebook-as-pdf) (0.7.1)\n",
      "Requirement already satisfied: jupyter-core in /Users/pau/opt/anaconda3/lib/python3.8/site-packages (from nbconvert->notebook-as-pdf) (4.7.1)\n",
      "Requirement already satisfied: pygments>=2.4.1 in /Users/pau/opt/anaconda3/lib/python3.8/site-packages (from nbconvert->notebook-as-pdf) (2.8.1)\n",
      "Requirement already satisfied: jinja2>=2.4 in /Users/pau/opt/anaconda3/lib/python3.8/site-packages (from nbconvert->notebook-as-pdf) (2.11.3)\n",
      "Requirement already satisfied: bleach in /Users/pau/opt/anaconda3/lib/python3.8/site-packages (from nbconvert->notebook-as-pdf) (3.3.0)\n",
      "Requirement already satisfied: testpath in /Users/pau/opt/anaconda3/lib/python3.8/site-packages (from nbconvert->notebook-as-pdf) (0.4.4)\n",
      "Requirement already satisfied: mistune<2,>=0.8.1 in /Users/pau/opt/anaconda3/lib/python3.8/site-packages (from nbconvert->notebook-as-pdf) (0.8.4)\n",
      "Requirement already satisfied: pandocfilters>=1.4.1 in /Users/pau/opt/anaconda3/lib/python3.8/site-packages (from nbconvert->notebook-as-pdf) (1.4.3)\n",
      "Requirement already satisfied: jupyterlab-pygments in /Users/pau/opt/anaconda3/lib/python3.8/site-packages (from nbconvert->notebook-as-pdf) (0.1.2)\n",
      "Requirement already satisfied: traitlets>=4.2 in /Users/pau/opt/anaconda3/lib/python3.8/site-packages (from nbconvert->notebook-as-pdf) (5.0.5)\n",
      "Requirement already satisfied: nbclient<0.6.0,>=0.5.0 in /Users/pau/opt/anaconda3/lib/python3.8/site-packages (from nbconvert->notebook-as-pdf) (0.5.3)\n",
      "Requirement already satisfied: MarkupSafe>=0.23 in /Users/pau/opt/anaconda3/lib/python3.8/site-packages (from jinja2>=2.4->nbconvert->notebook-as-pdf) (1.1.1)\n",
      "Requirement already satisfied: jupyter-client>=6.1.5 in /Users/pau/opt/anaconda3/lib/python3.8/site-packages (from nbclient<0.6.0,>=0.5.0->nbconvert->notebook-as-pdf) (6.1.12)\n",
      "Requirement already satisfied: nest-asyncio in /Users/pau/opt/anaconda3/lib/python3.8/site-packages (from nbclient<0.6.0,>=0.5.0->nbconvert->notebook-as-pdf) (1.5.1)\n",
      "Requirement already satisfied: async-generator in /Users/pau/opt/anaconda3/lib/python3.8/site-packages (from nbclient<0.6.0,>=0.5.0->nbconvert->notebook-as-pdf) (1.10)\n",
      "Requirement already satisfied: python-dateutil>=2.1 in /Users/pau/opt/anaconda3/lib/python3.8/site-packages (from jupyter-client>=6.1.5->nbclient<0.6.0,>=0.5.0->nbconvert->notebook-as-pdf) (2.8.1)\n",
      "Requirement already satisfied: tornado>=4.1 in /Users/pau/opt/anaconda3/lib/python3.8/site-packages (from jupyter-client>=6.1.5->nbclient<0.6.0,>=0.5.0->nbconvert->notebook-as-pdf) (6.1)\n",
      "Requirement already satisfied: pyzmq>=13 in /Users/pau/opt/anaconda3/lib/python3.8/site-packages (from jupyter-client>=6.1.5->nbclient<0.6.0,>=0.5.0->nbconvert->notebook-as-pdf) (20.0.0)\n",
      "Requirement already satisfied: jsonschema!=2.5.0,>=2.4 in /Users/pau/opt/anaconda3/lib/python3.8/site-packages (from nbformat>=4.4->nbconvert->notebook-as-pdf) (3.2.0)\n",
      "Requirement already satisfied: ipython-genutils in /Users/pau/opt/anaconda3/lib/python3.8/site-packages (from nbformat>=4.4->nbconvert->notebook-as-pdf) (0.2.0)\n",
      "Requirement already satisfied: six>=1.11.0 in /Users/pau/opt/anaconda3/lib/python3.8/site-packages (from jsonschema!=2.5.0,>=2.4->nbformat>=4.4->nbconvert->notebook-as-pdf) (1.15.0)\n",
      "Requirement already satisfied: setuptools in /Users/pau/opt/anaconda3/lib/python3.8/site-packages (from jsonschema!=2.5.0,>=2.4->nbformat>=4.4->nbconvert->notebook-as-pdf) (52.0.0.post20210125)\n",
      "Requirement already satisfied: attrs>=17.4.0 in /Users/pau/opt/anaconda3/lib/python3.8/site-packages (from jsonschema!=2.5.0,>=2.4->nbformat>=4.4->nbconvert->notebook-as-pdf) (20.3.0)\n",
      "Requirement already satisfied: pyrsistent>=0.14.0 in /Users/pau/opt/anaconda3/lib/python3.8/site-packages (from jsonschema!=2.5.0,>=2.4->nbformat>=4.4->nbconvert->notebook-as-pdf) (0.17.3)\n",
      "Requirement already satisfied: webencodings in /Users/pau/opt/anaconda3/lib/python3.8/site-packages (from bleach->nbconvert->notebook-as-pdf) (0.5.1)\n",
      "Requirement already satisfied: packaging in /Users/pau/opt/anaconda3/lib/python3.8/site-packages (from bleach->nbconvert->notebook-as-pdf) (20.9)\n",
      "Requirement already satisfied: pyparsing>=2.0.2 in /Users/pau/opt/anaconda3/lib/python3.8/site-packages (from packaging->bleach->nbconvert->notebook-as-pdf) (2.4.7)\n",
      "Requirement already satisfied: websockets<10.0,>=9.1 in /Users/pau/opt/anaconda3/lib/python3.8/site-packages (from pyppeteer->notebook-as-pdf) (9.1)\n",
      "Requirement already satisfied: urllib3<2.0.0,>=1.25.8 in /Users/pau/opt/anaconda3/lib/python3.8/site-packages (from pyppeteer->notebook-as-pdf) (1.26.4)\n",
      "Requirement already satisfied: appdirs<2.0.0,>=1.4.3 in /Users/pau/opt/anaconda3/lib/python3.8/site-packages (from pyppeteer->notebook-as-pdf) (1.4.4)\n",
      "Requirement already satisfied: pyee<9.0.0,>=8.1.0 in /Users/pau/opt/anaconda3/lib/python3.8/site-packages (from pyppeteer->notebook-as-pdf) (8.2.2)\n",
      "Requirement already satisfied: tqdm<5.0.0,>=4.42.1 in /Users/pau/opt/anaconda3/lib/python3.8/site-packages (from pyppeteer->notebook-as-pdf) (4.56.0)\n",
      "Requirement already satisfied: importlib-metadata>=1.4 in /Users/pau/opt/anaconda3/lib/python3.8/site-packages (from pyppeteer->notebook-as-pdf) (3.10.0)\n",
      "Requirement already satisfied: zipp>=0.5 in /Users/pau/opt/anaconda3/lib/python3.8/site-packages (from importlib-metadata>=1.4->pyppeteer->notebook-as-pdf) (3.4.1)\n",
      "Requirement already satisfied: pyppeteer in /Users/pau/opt/anaconda3/lib/python3.8/site-packages (0.2.6)\n",
      "Requirement already satisfied: tqdm<5.0.0,>=4.42.1 in /Users/pau/opt/anaconda3/lib/python3.8/site-packages (from pyppeteer) (4.56.0)\n",
      "Requirement already satisfied: urllib3<2.0.0,>=1.25.8 in /Users/pau/opt/anaconda3/lib/python3.8/site-packages (from pyppeteer) (1.26.4)\n",
      "Requirement already satisfied: appdirs<2.0.0,>=1.4.3 in /Users/pau/opt/anaconda3/lib/python3.8/site-packages (from pyppeteer) (1.4.4)\n",
      "Requirement already satisfied: websockets<10.0,>=9.1 in /Users/pau/opt/anaconda3/lib/python3.8/site-packages (from pyppeteer) (9.1)\n",
      "Requirement already satisfied: pyee<9.0.0,>=8.1.0 in /Users/pau/opt/anaconda3/lib/python3.8/site-packages (from pyppeteer) (8.2.2)\n",
      "Requirement already satisfied: importlib-metadata>=1.4 in /Users/pau/opt/anaconda3/lib/python3.8/site-packages (from pyppeteer) (3.10.0)\n",
      "Requirement already satisfied: zipp>=0.5 in /Users/pau/opt/anaconda3/lib/python3.8/site-packages (from importlib-metadata>=1.4->pyppeteer) (3.4.1)\n",
      "[NbConvertApp] Converting notebook S2 T1.ipynb to PDFviaHTML\n",
      "[NbConvertApp] Writing 205440 bytes to S2 T1.pdf\n"
     ]
    }
   ],
   "source": [
    "# Installing required programs and transforming to PDF\n",
    "\n",
    "!python -m pip install -U notebook-as-pdf\n",
    "\n",
    "!pip install pyppeteer\n",
    "\n",
    "!jupyter-nbconvert --to PDFviaHTML S2\\ T1.ipynb"
   ]
  },
  {
   "cell_type": "markdown",
   "metadata": {},
   "source": [
    "## Level 3\n",
    "\n",
    "### Exercice 1\n",
    "\n",
    "Install nbextensions"
   ]
  },
  {
   "cell_type": "code",
   "execution_count": 7,
   "metadata": {
    "ExecuteTime": {
     "end_time": "2021-09-28T11:38:24.388872Z",
     "start_time": "2021-09-28T11:38:20.640732Z"
    }
   },
   "outputs": [
    {
     "name": "stdout",
     "output_type": "stream",
     "text": [
      "Requirement already satisfied: jupyter_contrib_nbextensions in /Users/pau/opt/anaconda3/lib/python3.8/site-packages (0.5.1)\n",
      "Requirement already satisfied: pyyaml in /Users/pau/opt/anaconda3/lib/python3.8/site-packages (from jupyter_contrib_nbextensions) (5.3.1)\n",
      "Requirement already satisfied: traitlets>=4.1 in /Users/pau/opt/anaconda3/lib/python3.8/site-packages (from jupyter_contrib_nbextensions) (5.0.5)\n",
      "Requirement already satisfied: jupyter-contrib-core>=0.3.3 in /Users/pau/opt/anaconda3/lib/python3.8/site-packages (from jupyter_contrib_nbextensions) (0.3.3)\n",
      "Requirement already satisfied: tornado in /Users/pau/opt/anaconda3/lib/python3.8/site-packages (from jupyter_contrib_nbextensions) (6.1)\n",
      "Requirement already satisfied: jupyter-highlight-selected-word>=0.1.1 in /Users/pau/opt/anaconda3/lib/python3.8/site-packages (from jupyter_contrib_nbextensions) (0.2.0)\n",
      "Requirement already satisfied: lxml in /Users/pau/opt/anaconda3/lib/python3.8/site-packages (from jupyter_contrib_nbextensions) (4.6.3)\n",
      "Requirement already satisfied: nbconvert>=4.2 in /Users/pau/opt/anaconda3/lib/python3.8/site-packages (from jupyter_contrib_nbextensions) (6.0.7)\n",
      "Requirement already satisfied: notebook>=4.0 in /Users/pau/opt/anaconda3/lib/python3.8/site-packages (from jupyter_contrib_nbextensions) (6.3.0)\n",
      "Requirement already satisfied: jupyter-nbextensions-configurator>=0.4.0 in /Users/pau/opt/anaconda3/lib/python3.8/site-packages (from jupyter_contrib_nbextensions) (0.4.1)\n",
      "Requirement already satisfied: ipython-genutils in /Users/pau/opt/anaconda3/lib/python3.8/site-packages (from jupyter_contrib_nbextensions) (0.2.0)\n",
      "Requirement already satisfied: jupyter-core in /Users/pau/opt/anaconda3/lib/python3.8/site-packages (from jupyter_contrib_nbextensions) (4.7.1)\n",
      "Requirement already satisfied: jupyter-latex-envs>=1.3.8 in /Users/pau/opt/anaconda3/lib/python3.8/site-packages (from jupyter_contrib_nbextensions) (1.4.6)\n",
      "Requirement already satisfied: setuptools in /Users/pau/opt/anaconda3/lib/python3.8/site-packages (from jupyter-contrib-core>=0.3.3->jupyter_contrib_nbextensions) (52.0.0.post20210125)\n",
      "Requirement already satisfied: ipython in /Users/pau/opt/anaconda3/lib/python3.8/site-packages (from jupyter-latex-envs>=1.3.8->jupyter_contrib_nbextensions) (7.22.0)\n",
      "Requirement already satisfied: jupyterlab-pygments in /Users/pau/opt/anaconda3/lib/python3.8/site-packages (from nbconvert>=4.2->jupyter_contrib_nbextensions) (0.1.2)\n",
      "Requirement already satisfied: nbclient<0.6.0,>=0.5.0 in /Users/pau/opt/anaconda3/lib/python3.8/site-packages (from nbconvert>=4.2->jupyter_contrib_nbextensions) (0.5.3)\n",
      "Requirement already satisfied: nbformat>=4.4 in /Users/pau/opt/anaconda3/lib/python3.8/site-packages (from nbconvert>=4.2->jupyter_contrib_nbextensions) (5.1.3)\n",
      "Requirement already satisfied: bleach in /Users/pau/opt/anaconda3/lib/python3.8/site-packages (from nbconvert>=4.2->jupyter_contrib_nbextensions) (3.3.0)\n",
      "Requirement already satisfied: pygments>=2.4.1 in /Users/pau/opt/anaconda3/lib/python3.8/site-packages (from nbconvert>=4.2->jupyter_contrib_nbextensions) (2.8.1)\n",
      "Requirement already satisfied: defusedxml in /Users/pau/opt/anaconda3/lib/python3.8/site-packages (from nbconvert>=4.2->jupyter_contrib_nbextensions) (0.7.1)\n",
      "Requirement already satisfied: entrypoints>=0.2.2 in /Users/pau/opt/anaconda3/lib/python3.8/site-packages (from nbconvert>=4.2->jupyter_contrib_nbextensions) (0.3)\n",
      "Requirement already satisfied: pandocfilters>=1.4.1 in /Users/pau/opt/anaconda3/lib/python3.8/site-packages (from nbconvert>=4.2->jupyter_contrib_nbextensions) (1.4.3)\n",
      "Requirement already satisfied: testpath in /Users/pau/opt/anaconda3/lib/python3.8/site-packages (from nbconvert>=4.2->jupyter_contrib_nbextensions) (0.4.4)\n",
      "Requirement already satisfied: mistune<2,>=0.8.1 in /Users/pau/opt/anaconda3/lib/python3.8/site-packages (from nbconvert>=4.2->jupyter_contrib_nbextensions) (0.8.4)\n",
      "Requirement already satisfied: jinja2>=2.4 in /Users/pau/opt/anaconda3/lib/python3.8/site-packages (from nbconvert>=4.2->jupyter_contrib_nbextensions) (2.11.3)\n",
      "Requirement already satisfied: MarkupSafe>=0.23 in /Users/pau/opt/anaconda3/lib/python3.8/site-packages (from jinja2>=2.4->nbconvert>=4.2->jupyter_contrib_nbextensions) (1.1.1)\n",
      "Requirement already satisfied: jupyter-client>=6.1.5 in /Users/pau/opt/anaconda3/lib/python3.8/site-packages (from nbclient<0.6.0,>=0.5.0->nbconvert>=4.2->jupyter_contrib_nbextensions) (6.1.12)\n",
      "Requirement already satisfied: nest-asyncio in /Users/pau/opt/anaconda3/lib/python3.8/site-packages (from nbclient<0.6.0,>=0.5.0->nbconvert>=4.2->jupyter_contrib_nbextensions) (1.5.1)\n",
      "Requirement already satisfied: async-generator in /Users/pau/opt/anaconda3/lib/python3.8/site-packages (from nbclient<0.6.0,>=0.5.0->nbconvert>=4.2->jupyter_contrib_nbextensions) (1.10)\n",
      "Requirement already satisfied: python-dateutil>=2.1 in /Users/pau/opt/anaconda3/lib/python3.8/site-packages (from jupyter-client>=6.1.5->nbclient<0.6.0,>=0.5.0->nbconvert>=4.2->jupyter_contrib_nbextensions) (2.8.1)\n",
      "Requirement already satisfied: pyzmq>=13 in /Users/pau/opt/anaconda3/lib/python3.8/site-packages (from jupyter-client>=6.1.5->nbclient<0.6.0,>=0.5.0->nbconvert>=4.2->jupyter_contrib_nbextensions) (20.0.0)\n",
      "Requirement already satisfied: jsonschema!=2.5.0,>=2.4 in /Users/pau/opt/anaconda3/lib/python3.8/site-packages (from nbformat>=4.4->nbconvert>=4.2->jupyter_contrib_nbextensions) (3.2.0)\n",
      "Requirement already satisfied: six>=1.11.0 in /Users/pau/opt/anaconda3/lib/python3.8/site-packages (from jsonschema!=2.5.0,>=2.4->nbformat>=4.4->nbconvert>=4.2->jupyter_contrib_nbextensions) (1.15.0)\n",
      "Requirement already satisfied: pyrsistent>=0.14.0 in /Users/pau/opt/anaconda3/lib/python3.8/site-packages (from jsonschema!=2.5.0,>=2.4->nbformat>=4.4->nbconvert>=4.2->jupyter_contrib_nbextensions) (0.17.3)\n",
      "Requirement already satisfied: attrs>=17.4.0 in /Users/pau/opt/anaconda3/lib/python3.8/site-packages (from jsonschema!=2.5.0,>=2.4->nbformat>=4.4->nbconvert>=4.2->jupyter_contrib_nbextensions) (20.3.0)\n",
      "Requirement already satisfied: prometheus-client in /Users/pau/opt/anaconda3/lib/python3.8/site-packages (from notebook>=4.0->jupyter_contrib_nbextensions) (0.10.1)\n",
      "Requirement already satisfied: ipykernel in /Users/pau/opt/anaconda3/lib/python3.8/site-packages (from notebook>=4.0->jupyter_contrib_nbextensions) (5.3.4)\n",
      "Requirement already satisfied: argon2-cffi in /Users/pau/opt/anaconda3/lib/python3.8/site-packages (from notebook>=4.0->jupyter_contrib_nbextensions) (20.1.0)\n",
      "Requirement already satisfied: Send2Trash>=1.5.0 in /Users/pau/opt/anaconda3/lib/python3.8/site-packages (from notebook>=4.0->jupyter_contrib_nbextensions) (1.5.0)\n",
      "Requirement already satisfied: terminado>=0.8.3 in /Users/pau/opt/anaconda3/lib/python3.8/site-packages (from notebook>=4.0->jupyter_contrib_nbextensions) (0.9.4)\n",
      "Requirement already satisfied: ptyprocess in /Users/pau/opt/anaconda3/lib/python3.8/site-packages (from terminado>=0.8.3->notebook>=4.0->jupyter_contrib_nbextensions) (0.7.0)\n",
      "Requirement already satisfied: cffi>=1.0.0 in /Users/pau/opt/anaconda3/lib/python3.8/site-packages (from argon2-cffi->notebook>=4.0->jupyter_contrib_nbextensions) (1.14.5)\n",
      "Requirement already satisfied: pycparser in /Users/pau/opt/anaconda3/lib/python3.8/site-packages (from cffi>=1.0.0->argon2-cffi->notebook>=4.0->jupyter_contrib_nbextensions) (2.20)\n",
      "Requirement already satisfied: packaging in /Users/pau/opt/anaconda3/lib/python3.8/site-packages (from bleach->nbconvert>=4.2->jupyter_contrib_nbextensions) (20.9)\n",
      "Requirement already satisfied: webencodings in /Users/pau/opt/anaconda3/lib/python3.8/site-packages (from bleach->nbconvert>=4.2->jupyter_contrib_nbextensions) (0.5.1)\n",
      "Requirement already satisfied: appnope in /Users/pau/opt/anaconda3/lib/python3.8/site-packages (from ipykernel->notebook>=4.0->jupyter_contrib_nbextensions) (0.1.2)\n",
      "Requirement already satisfied: decorator in /Users/pau/opt/anaconda3/lib/python3.8/site-packages (from ipython->jupyter-latex-envs>=1.3.8->jupyter_contrib_nbextensions) (5.0.6)\n",
      "Requirement already satisfied: pickleshare in /Users/pau/opt/anaconda3/lib/python3.8/site-packages (from ipython->jupyter-latex-envs>=1.3.8->jupyter_contrib_nbextensions) (0.7.5)\n",
      "Requirement already satisfied: pexpect>4.3 in /Users/pau/opt/anaconda3/lib/python3.8/site-packages (from ipython->jupyter-latex-envs>=1.3.8->jupyter_contrib_nbextensions) (4.8.0)\n",
      "Requirement already satisfied: prompt-toolkit!=3.0.0,!=3.0.1,<3.1.0,>=2.0.0 in /Users/pau/opt/anaconda3/lib/python3.8/site-packages (from ipython->jupyter-latex-envs>=1.3.8->jupyter_contrib_nbextensions) (3.0.17)\n",
      "Requirement already satisfied: backcall in /Users/pau/opt/anaconda3/lib/python3.8/site-packages (from ipython->jupyter-latex-envs>=1.3.8->jupyter_contrib_nbextensions) (0.2.0)\n",
      "Requirement already satisfied: jedi>=0.16 in /Users/pau/opt/anaconda3/lib/python3.8/site-packages (from ipython->jupyter-latex-envs>=1.3.8->jupyter_contrib_nbextensions) (0.17.2)\n",
      "Requirement already satisfied: parso<0.8.0,>=0.7.0 in /Users/pau/opt/anaconda3/lib/python3.8/site-packages (from jedi>=0.16->ipython->jupyter-latex-envs>=1.3.8->jupyter_contrib_nbextensions) (0.7.0)\n"
     ]
    },
    {
     "name": "stdout",
     "output_type": "stream",
     "text": [
      "Requirement already satisfied: wcwidth in /Users/pau/opt/anaconda3/lib/python3.8/site-packages (from prompt-toolkit!=3.0.0,!=3.0.1,<3.1.0,>=2.0.0->ipython->jupyter-latex-envs>=1.3.8->jupyter_contrib_nbextensions) (0.2.5)\n",
      "Requirement already satisfied: pyparsing>=2.0.2 in /Users/pau/opt/anaconda3/lib/python3.8/site-packages (from packaging->bleach->nbconvert>=4.2->jupyter_contrib_nbextensions) (2.4.7)\n"
     ]
    }
   ],
   "source": [
    "!pip install jupyter_contrib_nbextensions\n",
    "\n",
    "# nbextensions is already installed"
   ]
  }
 ],
 "metadata": {
  "kernelspec": {
   "display_name": "Python 3",
   "language": "python",
   "name": "python3"
  },
  "language_info": {
   "codemirror_mode": {
    "name": "ipython",
    "version": 3
   },
   "file_extension": ".py",
   "mimetype": "text/x-python",
   "name": "python",
   "nbconvert_exporter": "python",
   "pygments_lexer": "ipython3",
   "version": "3.8.8"
  },
  "varInspector": {
   "cols": {
    "lenName": 16,
    "lenType": 16,
    "lenVar": 40
   },
   "kernels_config": {
    "python": {
     "delete_cmd_postfix": "",
     "delete_cmd_prefix": "del ",
     "library": "var_list.py",
     "varRefreshCmd": "print(var_dic_list())"
    },
    "r": {
     "delete_cmd_postfix": ") ",
     "delete_cmd_prefix": "rm(",
     "library": "var_list.r",
     "varRefreshCmd": "cat(var_dic_list()) "
    }
   },
   "types_to_exclude": [
    "module",
    "function",
    "builtin_function_or_method",
    "instance",
    "_Feature"
   ],
   "window_display": false
  }
 },
 "nbformat": 4,
 "nbformat_minor": 4
}
